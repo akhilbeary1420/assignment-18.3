{
 "cells": [
  {
   "cell_type": "code",
   "execution_count": 16,
   "metadata": {},
   "outputs": [
    {
     "name": "stdout",
     "output_type": "stream",
     "text": [
      "In one state, 52% of the voters are Republicans, and 48% are Democrats. In a second\n",
      "state, 47% of the voters are Republicans, and 53% are Democrats. Suppose a simple\n",
      "random sample of 100 voters are surveyed from each state.\n",
      "What is the probability that the survey will show a greater percentage of Republican\n",
      "voters in the second state than in the first state?\n",
      "      \n",
      " let,\n",
      "      p = the proportion of Republican voters in the first state\n",
      "      p1 = the proportion of Republican voters in the second state \n",
      "      s_p = the proportion of Republican voters in the sample from the first state\n",
      "      s_p1 = the proportion of Republican voters in the sample from the second state\n",
      "      The number of voters sampled from the first state (n1) = 100,\n",
      "      the number of voters sampled from the second state (n2) = 100. \n",
      "\n",
      " \n",
      "the mean of the difference in sample proportions: E(p1 - p2) = P1 - P2 = 0.0500 \n",
      "\n",
      "\n",
      "Find the standard deviation of the difference: 0.0728 \n",
      "\n",
      "\n",
      "This problem requires us to find the probability that p is less than p1.\n",
      "      This is equivalent to finding the probability that p - p1 is less than zero. \n",
      "\n",
      " \n",
      "Z-score : -0.686\n",
      "\n",
      "Therefore, the probability that the survey will show a greater percentage of Republican voters in the second state than in the first state is  0.25\n"
     ]
    }
   ],
   "source": [
    "import numpy as np\n",
    "import pandas as pd\n",
    "import scipy.stats as stats\n",
    "import scipy as s\n",
    "import matplotlib.pyplot as plt\n",
    "import math\n",
    "print(\"\"\"In one state, 52% of the voters are Republicans, and 48% are Democrats. In a second\n",
    "state, 47% of the voters are Republicans, and 53% are Democrats. Suppose a simple\n",
    "random sample of 100 voters are surveyed from each state.\n",
    "What is the probability that the survey will show a greater percentage of Republican\n",
    "voters in the second state than in the first state?\n",
    "      \"\"\")\n",
    "print(\"\"\" let,\n",
    "      p = the proportion of Republican voters in the first state\n",
    "      p1 = the proportion of Republican voters in the second state \n",
    "      s_p = the proportion of Republican voters in the sample from the first state\n",
    "      s_p1 = the proportion of Republican voters in the sample from the second state\n",
    "      The number of voters sampled from the first state (n1) = 100,\n",
    "      the number of voters sampled from the second state (n2) = 100. \\n\\n \"\"\")\n",
    "\n",
    "p=0.52\n",
    "p1=1 -p\n",
    "s_p = 0.53\n",
    "s_p1 =1- s_p\n",
    "n1=100\n",
    "n2=100\n",
    "E = 0.52 - 0.47 \n",
    "print(\"the mean of the difference in sample proportions: E(p1 - p2) = P1 - P2 =% .4f \\n\\n\" % E)\n",
    "Std =math.sqrt((p*p1/n1)+(s_p*s_p/n2))\n",
    "\n",
    "print(\"Find the standard deviation of the difference:% .4f \\n\\n\" % round(Std,4))\n",
    "\n",
    "print(\"\"\"This problem requires us to find the probability that p is less than p1.\n",
    "      This is equivalent to finding the probability that p - p1 is less than zero. \\n\\n \"\"\")\n",
    "Z =(0-E)/Std\n",
    "print(\"Z-score : % .3f\\n\" %Z)\n",
    "P_value = s.special.ndtr(Z)\n",
    "print(\"Therefore, the probability that the survey will show a greater percentage of Republican voters in the second state than in the first state is % .2f\" %P_value)\n"
   ]
  },
  {
   "cell_type": "code",
   "execution_count": null,
   "metadata": {},
   "outputs": [],
   "source": []
  },
  {
   "cell_type": "code",
   "execution_count": null,
   "metadata": {},
   "outputs": [],
   "source": []
  }
 ],
 "metadata": {
  "kernelspec": {
   "display_name": "Python 3",
   "language": "python",
   "name": "python3"
  },
  "language_info": {
   "codemirror_mode": {
    "name": "ipython",
    "version": 3
   },
   "file_extension": ".py",
   "mimetype": "text/x-python",
   "name": "python",
   "nbconvert_exporter": "python",
   "pygments_lexer": "ipython3",
   "version": "3.6.5"
  }
 },
 "nbformat": 4,
 "nbformat_minor": 2
}
